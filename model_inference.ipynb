{
 "cells": [
  {
   "cell_type": "markdown",
   "metadata": {},
   "source": [
    "# Model Inference"
   ]
  },
  {
   "cell_type": "markdown",
   "metadata": {},
   "source": [
    "After model saving, predictions are made with new data outside the dataset through model inference. The goal of this process is to apply the trained model to real-world scenarios, enabling the assessment of loan approval decisions for new applicants. "
   ]
  },
  {
   "cell_type": "markdown",
   "metadata": {},
   "source": [
    "## Import Libraries"
   ]
  },
  {
   "cell_type": "code",
   "execution_count": 1,
   "metadata": {},
   "outputs": [],
   "source": [
    "import pickle\n",
    "import numpy as np\n",
    "import pandas as pd"
   ]
  },
  {
   "cell_type": "markdown",
   "metadata": {},
   "source": [
    "## Open Model"
   ]
  },
  {
   "cell_type": "code",
   "execution_count": 3,
   "metadata": {},
   "outputs": [],
   "source": [
    "with open('deployment/model.pkl', 'rb') as file:\n",
    "    grid_search_best = pickle.load(file)"
   ]
  },
  {
   "cell_type": "code",
   "execution_count": 5,
   "metadata": {},
   "outputs": [
    {
     "data": {
      "text/html": [
       "<div>\n",
       "<style scoped>\n",
       "    .dataframe tbody tr th:only-of-type {\n",
       "        vertical-align: middle;\n",
       "    }\n",
       "\n",
       "    .dataframe tbody tr th {\n",
       "        vertical-align: top;\n",
       "    }\n",
       "\n",
       "    .dataframe thead th {\n",
       "        text-align: right;\n",
       "    }\n",
       "</style>\n",
       "<table border=\"1\" class=\"dataframe\">\n",
       "  <thead>\n",
       "    <tr style=\"text-align: right;\">\n",
       "      <th></th>\n",
       "      <th>pokemon_id</th>\n",
       "      <th>pokemon_name</th>\n",
       "      <th>base_attack</th>\n",
       "      <th>base_defense</th>\n",
       "      <th>base_stamina</th>\n",
       "      <th>type</th>\n",
       "      <th>rarity</th>\n",
       "      <th>charged_moves</th>\n",
       "      <th>fast_moves</th>\n",
       "      <th>candy_required</th>\n",
       "      <th>...</th>\n",
       "      <th>dodge_probability</th>\n",
       "      <th>max_pokemon_action_frequency</th>\n",
       "      <th>min_pokemon_action_frequency</th>\n",
       "      <th>found_egg</th>\n",
       "      <th>found_evolution</th>\n",
       "      <th>found_wild</th>\n",
       "      <th>found_research</th>\n",
       "      <th>found_raid</th>\n",
       "      <th>found_photobomb</th>\n",
       "      <th>total_base_stats</th>\n",
       "    </tr>\n",
       "  </thead>\n",
       "  <tbody>\n",
       "    <tr>\n",
       "      <th>0</th>\n",
       "      <td>69</td>\n",
       "      <td>Ay-MAN</td>\n",
       "      <td>120</td>\n",
       "      <td>80</td>\n",
       "      <td>100</td>\n",
       "      <td>Grass</td>\n",
       "      <td>Legendary</td>\n",
       "      <td>Thunderbolt, Wild Charge</td>\n",
       "      <td>Thunder Shock, Quick Attack</td>\n",
       "      <td>50.0</td>\n",
       "      <td>...</td>\n",
       "      <td>0.2</td>\n",
       "      <td>2.0</td>\n",
       "      <td>0.5</td>\n",
       "      <td>True</td>\n",
       "      <td>True</td>\n",
       "      <td>True</td>\n",
       "      <td>False</td>\n",
       "      <td>True</td>\n",
       "      <td>False</td>\n",
       "      <td>500</td>\n",
       "    </tr>\n",
       "  </tbody>\n",
       "</table>\n",
       "<p>1 rows × 25 columns</p>\n",
       "</div>"
      ],
      "text/plain": [
       "   pokemon_id pokemon_name  base_attack  base_defense  base_stamina   type  \\\n",
       "0          69       Ay-MAN          120            80           100  Grass   \n",
       "\n",
       "      rarity             charged_moves                   fast_moves  \\\n",
       "0  Legendary  Thunderbolt, Wild Charge  Thunder Shock, Quick Attack   \n",
       "\n",
       "   candy_required  ...  dodge_probability  max_pokemon_action_frequency  \\\n",
       "0            50.0  ...                0.2                           2.0   \n",
       "\n",
       "   min_pokemon_action_frequency  found_egg  found_evolution  found_wild  \\\n",
       "0                           0.5       True             True        True   \n",
       "\n",
       "   found_research  found_raid  found_photobomb  total_base_stats  \n",
       "0           False        True            False               500  \n",
       "\n",
       "[1 rows x 25 columns]"
      ]
     },
     "execution_count": 5,
     "metadata": {},
     "output_type": "execute_result"
    }
   ],
   "source": [
    "# New data\n",
    "data_inf = {\n",
    "    'pokemon_id': [69],\n",
    "    'pokemon_name': ['Ay-MAN'],\n",
    "    'base_attack': [120],\n",
    "    'base_defense': [80],\n",
    "    'base_stamina': [100],\n",
    "    'type': ['Grass'],\n",
    "    'rarity': ['Legendary'],\n",
    "    'charged_moves': ['Thunderbolt, Wild Charge'],\n",
    "    'fast_moves': ['Thunder Shock, Quick Attack'],\n",
    "    'candy_required': [50.0],\n",
    "    'distance': [3],\n",
    "    'max_cp': [1500],\n",
    "    'attack_probability': [0.3],\n",
    "    'base_capture_rate': [-1.0], \n",
    "    'base_flee_rate': [-1.0],  \n",
    "    'dodge_probability': [0.2],\n",
    "    'max_pokemon_action_frequency': [2.0],\n",
    "    'min_pokemon_action_frequency': [0.5],\n",
    "    'found_egg': [True],\n",
    "    'found_evolution': [True],\n",
    "    'found_wild': [True],\n",
    "    'found_research': [False],\n",
    "    'found_raid': [True],\n",
    "    'found_photobomb': [False],\n",
    "    'total_base_stats': [500],\n",
    "}\n",
    "\n",
    "# Creating DataFrame\n",
    "data_inf = pd.DataFrame(data_inf)\n",
    "data_inf"
   ]
  },
  {
   "cell_type": "markdown",
   "metadata": {},
   "source": [
    "## Predict"
   ]
  },
  {
   "cell_type": "code",
   "execution_count": 7,
   "metadata": {},
   "outputs": [
    {
     "data": {
      "text/plain": [
       "array(['Standard'], dtype=object)"
      ]
     },
     "execution_count": 7,
     "metadata": {},
     "output_type": "execute_result"
    }
   ],
   "source": [
    "# Predict the data inference\n",
    "data_inf = grid_search_best.predict(data_inf)\n",
    "data_inf"
   ]
  },
  {
   "cell_type": "markdown",
   "metadata": {},
   "source": [
    "Based on the inference data, it is predicted that the applicant's loan type will be classified as **Standard**."
   ]
  }
 ],
 "metadata": {
  "kernelspec": {
   "display_name": "base",
   "language": "python",
   "name": "python3"
  },
  "language_info": {
   "codemirror_mode": {
    "name": "ipython",
    "version": 3
   },
   "file_extension": ".py",
   "mimetype": "text/x-python",
   "name": "python",
   "nbconvert_exporter": "python",
   "pygments_lexer": "ipython3",
   "version": "3.12.7"
  }
 },
 "nbformat": 4,
 "nbformat_minor": 2
}
